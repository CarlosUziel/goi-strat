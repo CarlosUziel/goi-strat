{
 "cells": [
  {
   "cell_type": "markdown",
   "metadata": {},
   "source": [
    "# Comparison between GoiStrat and naïve solution"
   ]
  },
  {
   "cell_type": "code",
   "execution_count": null,
   "metadata": {},
   "outputs": [],
   "source": [
    "%load_ext autoreload\n",
    "%autoreload 2\n",
    "%matplotlib inline"
   ]
  },
  {
   "cell_type": "markdown",
   "metadata": {},
   "source": [
    "Imports"
   ]
  },
  {
   "cell_type": "code",
   "execution_count": null,
   "metadata": {},
   "outputs": [],
   "source": [
    "import sys\n",
    "import pandas as pd\n",
    "import seaborn as sns\n",
    "import numpy as np\n",
    "\n",
    "from IPython.display import display\n",
    "from typing import Iterable, Dict\n",
    "from itertools import product\n",
    "import matplotlib.pyplot as plt\n",
    "from pathlib import Path"
   ]
  },
  {
   "cell_type": "markdown",
   "metadata": {},
   "source": [
    "Setup"
   ]
  },
  {
   "cell_type": "code",
   "execution_count": null,
   "metadata": {},
   "outputs": [],
   "source": [
    "src_path: str = \"/home/uziel/Development/goi-strat/src\"\n",
    "sys.path.insert(0, src_path)"
   ]
  },
  {
   "cell_type": "code",
   "execution_count": null,
   "metadata": {},
   "outputs": [],
   "source": [
    "from data.utils import calculate_power"
   ]
  },
  {
   "cell_type": "code",
   "execution_count": null,
   "metadata": {},
   "outputs": [],
   "source": [
    "ROOT: Path = Path(\"/mnt/d/phd_data/\")\n",
    "MSIGDB_CATS: Iterable[str] = (\"H\", *[f\"C{i}\" for i in range(1, 9)])\n",
    "DATASETS_MARKERS: Dict[str, str] = {\n",
    "    \"TCGA-BRCA\": \"BRCA1\",  # https://www.ncbi.nlm.nih.gov/pmc/articles/PMC8998777/\n",
    "    \"TCGA-LUAD\": \"NKX2-1\",  # https://www.nature.com/articles/nature09881\n",
    "    \"TCGA-THCA\": \"HMGA2\",  # https://core.ac.uk/download/pdf/46919877.pdf#page=59\n",
    "    \"TCGA-UCEC\": \"PIK3CA\",  # https://pubmed.ncbi.nlm.nih.gov/28860563/, https://www.ncbi.nlm.nih.gov/pmc/articles/PMC3060282/\n",
    "    \"TCGA-LUSC\": \"SOX2\",  # https://www.cell.com/cancer-cell/fulltext/S1535-6108(16)30436-6\n",
    "    \"TCGA-KIRC\": \"CA9\",  # https://www.sciencedirect.com/science/article/abs/pii/S0959804910006982\n",
    "    \"TCGA-HNSC\": \"TP63\",  # https://aacrjournals.org/mcr/article/17/6/1279/270274/Loss-of-TP63-Promotes-the-Metastasis-of-Head-and\n",
    "    \"TCGA-LGG\": \"IDH1\",  # https://www.neurology.org/doi/abs/10.1212/wnl.0b013e3181f96282\n",
    "    \"PCTA_WCDT\": \"FOLH1\",  # https://www.nature.com/articles/nrurol.2016.26\n",
    "}\n",
    "PERCENTILES: Iterable[int] = (10, 15, 20, 25, 30)\n",
    "RENAME_DICT: Dict = {\n",
    "    \"GOI_level\": \"GoiStrat (*/50/*)\",\n",
    "    \"GOI_level_10\": \"10 / 80 / 10\",\n",
    "    \"GOI_level_15\": \"15 / 70 / 15\",\n",
    "    \"GOI_level_20\": \"20 / 60 / 20\",\n",
    "    \"GOI_level_25\": \"25 / 50 / 25\",\n",
    "    \"GOI_level_30\": \"30 / 40 / 30\",\n",
    "}\n",
    "SAMPLE_TYPE: str = \"prim\"\n",
    "PALETTE_STR: str = \"coolwarm\"  # coolwarm or flare\n",
    "EFFECT_SIZE: float = 0.5\n",
    "ALPHA: float = 0.05\n",
    "\n",
    "sns.set_theme(style=\"whitegrid\", palette=PALETTE_STR)\n",
    "plt.rcParams[\"font.family\"] = \"serif\"\n",
    "plt.rcParams[\"font.serif\"] = \"Ubuntu Mono\"\n",
    "plt.rcParams[\"font.monospace\"] = \"Ubuntu Mono\""
   ]
  },
  {
   "cell_type": "markdown",
   "metadata": {},
   "source": [
    "Global variables"
   ]
  },
  {
   "cell_type": "code",
   "execution_count": null,
   "metadata": {},
   "outputs": [],
   "source": [
    "MULTI_DATASET_PATH: Path = ROOT.joinpath(\"MULTI_DATASET\")\n",
    "MULTI_DATASET_PATH.mkdir(parents=True, exist_ok=True)"
   ]
  },
  {
   "cell_type": "markdown",
   "metadata": {},
   "source": [
    "## 1. Explore dataset characteristics"
   ]
  },
  {
   "cell_type": "markdown",
   "metadata": {},
   "source": [
    "### 1.1. Annotation data from all splits"
   ]
  },
  {
   "cell_type": "code",
   "execution_count": null,
   "metadata": {},
   "outputs": [],
   "source": [
    "group_counts = dict()\n",
    "for dataset, marker in DATASETS_MARKERS.items():\n",
    "    data_root = ROOT.joinpath(f\"{dataset}_{marker}\")\n",
    "    annot_df = pd.read_csv(\n",
    "        data_root.joinpath(\"data\").joinpath(f\"samples_annotation_{marker}_gsva.csv\"),\n",
    "        index_col=0,\n",
    "    )\n",
    "    contrast_factor = f\"{marker}_level\"\n",
    "    group_counts[(dataset + f\" ({marker})\", \"GOI_level\")] = (\n",
    "        annot_df[contrast_factor].value_counts().to_dict()\n",
    "    )\n",
    "    group_counts[(dataset + f\" ({marker})\", \"GOI_level\")].update(\n",
    "        {\"total\": len(annot_df)}\n",
    "    )\n",
    "\n",
    "    for percentile in PERCENTILES:\n",
    "        annot_df = pd.read_csv(\n",
    "            data_root.joinpath(\"data\").joinpath(\n",
    "                f\"samples_annotation_{marker}_perc.csv\"\n",
    "            ),\n",
    "            index_col=0,\n",
    "        )\n",
    "        contrast_factor = f\"{marker}_level_{percentile}\"\n",
    "        group_counts[(dataset + f\" ({marker})\", f\"GOI_level_{percentile}\")] = (\n",
    "            annot_df[contrast_factor].value_counts().to_dict()\n",
    "        )\n",
    "        group_counts[(dataset + f\" ({marker})\", f\"GOI_level_{percentile}\")].update(\n",
    "            {\"total\": len(annot_df)}\n",
    "        )\n",
    "\n",
    "group_counts_df = pd.DataFrame(group_counts).T\n",
    "group_counts_df.to_csv(MULTI_DATASET_PATH.joinpath(\"group_counts_all_df.csv\"))\n",
    "display(group_counts_df)"
   ]
  },
  {
   "cell_type": "code",
   "execution_count": null,
   "metadata": {},
   "outputs": [],
   "source": [
    "# Function to apply calculate_power to each row\n",
    "def calculate_row_power(row: pd.Series) -> float:\n",
    "    \"\"\"\n",
    "    Calculate the test power for a given row using the low and high values.\n",
    "\n",
    "    Parameters:\n",
    "    - row: A pandas Series representing a row of the DataFrame.\n",
    "\n",
    "    Returns:\n",
    "    - float: The calculated power for the row.\n",
    "    \"\"\"\n",
    "    return calculate_power(\n",
    "        effect_size=EFFECT_SIZE, alpha=ALPHA, n1=row[\"low\"], n2=row[\"high\"]\n",
    "    )\n",
    "\n",
    "\n",
    "# Apply the function to each row and create a new column 'power'\n",
    "group_counts_df[\"power\"] = group_counts_df.apply(calculate_row_power, axis=1)\n",
    "\n",
    "group_counts_df.to_csv(MULTI_DATASET_PATH.joinpath(\"group_counts_df_with_power.csv\"))\n",
    "# Display the updated DataFrame\n",
    "display(group_counts_df)"
   ]
  },
  {
   "cell_type": "code",
   "execution_count": null,
   "metadata": {},
   "outputs": [],
   "source": [
    "power_map = group_counts_df[\"power\"].to_dict()\n",
    "print(power_map)"
   ]
  },
  {
   "cell_type": "markdown",
   "metadata": {},
   "source": [
    "## 2. Gather and compare differential expression results\n",
    "\n",
    "Differential expression results between low and high groups for each dataset and splitting strategy."
   ]
  },
  {
   "cell_type": "code",
   "execution_count": null,
   "metadata": {},
   "outputs": [],
   "source": [
    "all_degs = dict()\n",
    "all_degs_scores = dict()\n",
    "for dataset, marker in DATASETS_MARKERS.items():\n",
    "    contrast_factors = [\n",
    "        f\"{marker}_level_{percentile}\" for percentile in PERCENTILES\n",
    "    ] + [f\"{marker}_level\"]\n",
    "    data_root = ROOT.joinpath(f\"{dataset}_{marker}\")\n",
    "\n",
    "    for contrast_factor in contrast_factors:\n",
    "        deseq_results = pd.read_csv(\n",
    "            data_root.joinpath(\"deseq2\").joinpath(\n",
    "                f\"sample_type_{SAMPLE_TYPE}_{contrast_factor}_\"\n",
    "                f\"{SAMPLE_TYPE}_high+{SAMPLE_TYPE}_low_\"\n",
    "                f\"_{SAMPLE_TYPE}_high_vs_{SAMPLE_TYPE}_low_\"\n",
    "                \"padj_0_05_all_1_0_deseq_results_unique.csv\"\n",
    "            ),\n",
    "            index_col=0,\n",
    "        )\n",
    "        contrast_factor_str = contrast_factor.replace(marker, \"GOI\")\n",
    "        all_degs[(dataset + f\" ({marker})\", contrast_factor_str)] = deseq_results[\n",
    "            \"log2FoldChange\"\n",
    "        ]\n",
    "        all_degs_scores[(dataset + f\" ({marker})\", contrast_factor_str)] = (\n",
    "            deseq_results[\"log2FoldChange\"].pipe(\n",
    "                lambda x: np.sqrt(np.mean(np.power(x, 2)))\n",
    "            )\n",
    "        )\n",
    "\n",
    "all_degs_df = pd.DataFrame(all_degs)"
   ]
  },
  {
   "cell_type": "code",
   "execution_count": null,
   "metadata": {},
   "outputs": [],
   "source": [
    "all_degs_scores_df = pd.Series(all_degs_scores).unstack(level=0).transpose()\n",
    "all_degs_scores_df.to_csv(MULTI_DATASET_PATH.joinpath(\"all_degs_scores_df.csv\"))\n",
    "display(all_degs_scores_df)"
   ]
  },
  {
   "cell_type": "code",
   "execution_count": null,
   "metadata": {},
   "outputs": [],
   "source": [
    "def apply_function(df, func):\n",
    "    for row_idx, row in df.iterrows():\n",
    "        for col_idx, value in row.items():\n",
    "            df.at[row_idx, col_idx] = value * func[(row_idx, col_idx)]\n",
    "    return df\n",
    "\n",
    "\n",
    "all_degs_scores_df_weighted = apply_function(all_degs_scores_df, power_map)\n",
    "all_degs_scores_df_weighted.to_csv(\n",
    "    MULTI_DATASET_PATH.joinpath(\"all_degs_scores_df_weighted.csv\")\n",
    ")\n",
    "display(all_degs_scores_df_weighted)"
   ]
  },
  {
   "cell_type": "code",
   "execution_count": null,
   "metadata": {},
   "outputs": [],
   "source": [
    "all_degs_scores_df_weighted_ranked = all_degs_scores_df_weighted.rank(\n",
    "    axis=1, method=\"max\", ascending=False\n",
    ").astype(int)\n",
    "all_degs_scores_df_weighted_ranked.to_csv(\n",
    "    MULTI_DATASET_PATH.joinpath(\"all_degs_scores_df_weighted_ranked.csv\")\n",
    ")\n",
    "display(all_degs_scores_df_weighted_ranked)"
   ]
  },
  {
   "cell_type": "code",
   "execution_count": null,
   "metadata": {},
   "outputs": [],
   "source": [
    "all_degs_scores_df_weighted_ranked_summary = (\n",
    "    all_degs_scores_df_weighted_ranked.median().sort_values(ascending=True)\n",
    ")\n",
    "all_degs_scores_df_weighted_ranked_summary.to_csv(\n",
    "    MULTI_DATASET_PATH.joinpath(\"all_degs_scores_df_weighted_ranked_summary.csv\")\n",
    ")\n",
    "display(all_degs_scores_df_weighted_ranked_summary)"
   ]
  },
  {
   "cell_type": "markdown",
   "metadata": {},
   "source": [
    "### 2.1. Visualise results"
   ]
  },
  {
   "cell_type": "code",
   "execution_count": null,
   "metadata": {},
   "outputs": [],
   "source": [
    "# Melt the DataFrame to long format for seaborn\n",
    "all_degs_scores_df_weighted_melted = all_degs_scores_df_weighted.reset_index().melt(\n",
    "    id_vars=\"index\", var_name=\"Column\", value_name=\"Score\"\n",
    ")\n",
    "\n",
    "all_degs_scores_df_weighted_melted[\"Column\"] = all_degs_scores_df_weighted_melted[\n",
    "    \"Column\"\n",
    "].map(RENAME_DICT)\n",
    "all_degs_scores_df_weighted_melted[\"index\"] = all_degs_scores_df_weighted_melted[\n",
    "    \"index\"\n",
    "].str.replace(\" (\", \"\\n(\")\n",
    "\n",
    "# Create the barplot\n",
    "plt.figure(figsize=(12, 6))\n",
    "barplot = sns.barplot(\n",
    "    data=all_degs_scores_df_weighted_melted,\n",
    "    x=\"index\",\n",
    "    y=\"Score\",\n",
    "    hue=\"Column\",\n",
    "    palette=PALETTE_STR,\n",
    ")\n",
    "\n",
    "# Customize the plot\n",
    "plt.xlabel(\"\")\n",
    "plt.ylabel(\"Score\")\n",
    "plt.title(\n",
    "    \"Weighted Root-mean-squared LFC scores of DEGs for different GOI splitting strategies\"\n",
    ")\n",
    "\n",
    "# Add a black border to the bar corresponding to \"GOI_level\"\n",
    "for patch, level in zip(barplot.patches, all_degs_scores_df_weighted_melted[\"Column\"]):\n",
    "    if level == \"GoiStrat (*/50/*)\":\n",
    "        patch.set_edgecolor(\"black\")\n",
    "        patch.set_linewidth(1)\n",
    "\n",
    "# Move the legend outside of the figure\n",
    "plt.legend(bbox_to_anchor=(1.02, 1), loc=\"upper left\", borderaxespad=0.0)\n",
    "\n",
    "# Show the plot\n",
    "plt.tight_layout()\n",
    "\n",
    "plt.savefig(\n",
    "    MULTI_DATASET_PATH.joinpath(\"all_degs_scores_df_weighted_barplot.pdf\"),\n",
    "    bbox_inches=\"tight\",\n",
    ")\n",
    "plt.savefig(\n",
    "    MULTI_DATASET_PATH.joinpath(\"all_degs_scores_df_weighted_barplot.svg\"),\n",
    "    bbox_inches=\"tight\",\n",
    ")\n",
    "\n",
    "plt.show()"
   ]
  },
  {
   "cell_type": "markdown",
   "metadata": {},
   "source": [
    "## 3. Gather and compare differential enrichment results\n",
    "\n",
    "Differential enrichment results between low and high groups for each dataset and splitting strategy."
   ]
  },
  {
   "cell_type": "code",
   "execution_count": null,
   "metadata": {},
   "outputs": [],
   "source": [
    "all_degss = dict()\n",
    "all_degss_scores = dict()\n",
    "for dataset, marker in DATASETS_MARKERS.items():\n",
    "    contrast_factors = [\n",
    "        f\"{marker}_level_{percentile}\" for percentile in PERCENTILES\n",
    "    ] + [f\"{marker}_level\"]\n",
    "    data_root = ROOT.joinpath(f\"{dataset}_{marker}\")\n",
    "    msigdb_cats_meta_dfs = {\n",
    "        msigdb_cat: pd.read_csv(\n",
    "            ROOT.joinpath(dataset)\n",
    "            .joinpath(\"data\")\n",
    "            .joinpath(\"gsva\")\n",
    "            .joinpath(f\"{msigdb_cat}_meta.csv\"),\n",
    "            index_col=0,\n",
    "        )\n",
    "        for msigdb_cat in MSIGDB_CATS\n",
    "    }\n",
    "\n",
    "    for contrast_factor, msigdb_cat in product(contrast_factors, MSIGDB_CATS):\n",
    "        gsva_results = pd.read_csv(\n",
    "            data_root.joinpath(\"diff_gsva\")\n",
    "            .joinpath(msigdb_cat)\n",
    "            .joinpath(\n",
    "                f\"sample_type_{SAMPLE_TYPE}_{contrast_factor}_\"\n",
    "                f\"{SAMPLE_TYPE}_high+{SAMPLE_TYPE}_low_\"\n",
    "                f\"_{SAMPLE_TYPE}_high_vs_{SAMPLE_TYPE}_low_\"\n",
    "                \"top_table_padj_0_05_all_0_0.csv\"\n",
    "            ),\n",
    "            index_col=0,\n",
    "        )\n",
    "        contrast_factor_str = contrast_factor.replace(marker, \"GOI\")\n",
    "        all_degss[(dataset + f\" ({marker})\", contrast_factor_str, msigdb_cat)] = (\n",
    "            gsva_results[\"log2FoldChange\"]\n",
    "        )\n",
    "        all_degss_scores[\n",
    "            (dataset + f\" ({marker})\", contrast_factor_str, msigdb_cat)\n",
    "        ] = gsva_results[\"log2FoldChange\"].pipe(\n",
    "            lambda x: (x.count() / len(msigdb_cats_meta_dfs[msigdb_cat]))\n",
    "            * np.sqrt(np.mean(np.power(x, 2)))\n",
    "        )\n",
    "\n",
    "all_degss_df = pd.DataFrame(all_degss)"
   ]
  },
  {
   "cell_type": "code",
   "execution_count": null,
   "metadata": {},
   "outputs": [],
   "source": [
    "all_degss_scores_df = (\n",
    "    pd.Series(all_degss_scores).unstack(level=[0, 1]).median().unstack()\n",
    ")\n",
    "all_degss_scores_df.to_csv(MULTI_DATASET_PATH.joinpath(\"all_degss_scores_df.csv\"))\n",
    "display(all_degss_scores_df)"
   ]
  },
  {
   "cell_type": "code",
   "execution_count": null,
   "metadata": {},
   "outputs": [],
   "source": [
    "def apply_function(df, func):\n",
    "    for row_idx, row in df.iterrows():\n",
    "        for col_idx, value in row.items():\n",
    "            df.at[row_idx, col_idx] = value * func[(row_idx, col_idx)]\n",
    "    return df\n",
    "\n",
    "\n",
    "all_degss_scores_df_weighted = apply_function(all_degss_scores_df, power_map)\n",
    "all_degss_scores_df_weighted.to_csv(\n",
    "    MULTI_DATASET_PATH.joinpath(\"all_degss_scores_df_weighted.csv\")\n",
    ")\n",
    "display(all_degss_scores_df_weighted)"
   ]
  },
  {
   "cell_type": "code",
   "execution_count": null,
   "metadata": {},
   "outputs": [],
   "source": [
    "all_degss_scores_df_weighted_ranked = all_degss_scores_df_weighted.rank(\n",
    "    axis=1, method=\"max\", ascending=False\n",
    ").astype(int)\n",
    "all_degss_scores_df_weighted_ranked.to_csv(\n",
    "    MULTI_DATASET_PATH.joinpath(\"all_degss_scores_df_weighted_ranked.csv\")\n",
    ")\n",
    "display(all_degss_scores_df_weighted_ranked)"
   ]
  },
  {
   "cell_type": "code",
   "execution_count": null,
   "metadata": {},
   "outputs": [],
   "source": [
    "all_degss_scores_df_weighted_ranked_summary = (\n",
    "    all_degss_scores_df_weighted_ranked.median().sort_values(ascending=True)\n",
    ")\n",
    "all_degss_scores_df_weighted_ranked_summary.to_csv(\n",
    "    MULTI_DATASET_PATH.joinpath(\"all_degss_scores_df_weighted_ranked_summary.csv\")\n",
    ")\n",
    "display(all_degss_scores_df_weighted_ranked_summary)"
   ]
  },
  {
   "cell_type": "markdown",
   "metadata": {},
   "source": [
    "### 3.1. Visualise results"
   ]
  },
  {
   "cell_type": "code",
   "execution_count": null,
   "metadata": {},
   "outputs": [],
   "source": [
    "# Melt the DataFrame to long format for seaborn\n",
    "all_degss_scores_df_weighted_melted = all_degss_scores_df_weighted.reset_index().melt(\n",
    "    id_vars=\"index\", var_name=\"Column\", value_name=\"Score\"\n",
    ")\n",
    "all_degss_scores_df_weighted_melted[\"index\"] = all_degss_scores_df_weighted_melted[\n",
    "    \"index\"\n",
    "].str.replace(\" (\", \"\\n(\")\n",
    "\n",
    "all_degss_scores_df_weighted_melted[\"Column\"] = all_degss_scores_df_weighted_melted[\n",
    "    \"Column\"\n",
    "].map(RENAME_DICT)\n",
    "\n",
    "# Create the barplot\n",
    "plt.figure(figsize=(12, 6))\n",
    "barplot = sns.barplot(\n",
    "    data=all_degss_scores_df_weighted_melted,\n",
    "    x=\"index\",\n",
    "    y=\"Score\",\n",
    "    hue=\"Column\",\n",
    "    palette=PALETTE_STR,\n",
    ")\n",
    "\n",
    "# Customize the plot\n",
    "plt.xlabel(\"\")\n",
    "plt.ylabel(\"Score\")\n",
    "plt.title(\n",
    "    \"Weighted Median Functional Enrichment Scores for different GOI splitting strategies\"\n",
    ")\n",
    "\n",
    "# Add a black border to the bar corresponding to \"GOI_level\"\n",
    "for patch, level in zip(barplot.patches, all_degss_scores_df_weighted_melted[\"Column\"]):\n",
    "    if level == \"GoiStrat (*/50/*)\":\n",
    "        patch.set_edgecolor(\"black\")\n",
    "        patch.set_linewidth(1)\n",
    "\n",
    "# Move the legend outside of the figure\n",
    "plt.legend(bbox_to_anchor=(1.02, 1), loc=\"upper left\", borderaxespad=0.0)\n",
    "\n",
    "# Show the plot\n",
    "plt.tight_layout()\n",
    "\n",
    "plt.savefig(\n",
    "    MULTI_DATASET_PATH.joinpath(\"all_degss_scores_df_weighted_barplot.pdf\"),\n",
    "    bbox_inches=\"tight\",\n",
    ")\n",
    "plt.savefig(\n",
    "    MULTI_DATASET_PATH.joinpath(\"all_degss_scores_df_weighted_barplot.svg\"),\n",
    "    bbox_inches=\"tight\",\n",
    ")\n",
    "\n",
    "plt.show()"
   ]
  },
  {
   "cell_type": "markdown",
   "metadata": {},
   "source": [
    "- Median functional difference scores have been weighted by the power of the differential analysis test for a fairer comparison.\n",
    "- We can observe a considerable heterogenity in the ability of each method to successfully split the samples such that the functional differences are maximised. In spite of this, the GoiStrat method demonstrates a higher consistency in its ability to identify functional differences between the high and low groups.\n",
    "- It ranks first in 8 out of 9 datasets, and a close third in the last one."
   ]
  }
 ],
 "metadata": {
  "kernelspec": {
   "display_name": "bioinfo",
   "language": "python",
   "name": "python3"
  },
  "language_info": {
   "codemirror_mode": {
    "name": "ipython",
    "version": 3
   },
   "file_extension": ".py",
   "mimetype": "text/x-python",
   "name": "python",
   "nbconvert_exporter": "python",
   "pygments_lexer": "ipython3",
   "version": "3.12.4"
  }
 },
 "nbformat": 4,
 "nbformat_minor": 2
}
